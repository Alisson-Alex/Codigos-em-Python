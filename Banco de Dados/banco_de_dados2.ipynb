{
 "cells": [
  {
   "cell_type": "code",
   "execution_count": 9,
   "metadata": {},
   "outputs": [
    {
     "name": "stdout",
     "output_type": "stream",
     "text": [
      "Contatos:\n",
      "(2, 'Maria', 'maria@gmail.com', '(47)98486-8701')\n",
      "(3, 'Carlos', 'carlos@hotmail.com', '(48)98497-7821')\n",
      "(4, 'João', 'joao@gmail.com', '(47)98484-5567')\n",
      "(5, 'Maria', 'maria@gmail.com', '(47)98893-5883')\n",
      "(6, 'Carlos', 'carlos@hotmail.com', '(48)98497-7821')\n",
      "(7, 'João', 'joao@gmail.com', '(47)98484-5567')\n",
      "(8, 'Maria', 'maria@gmail.com', '(47)98893-5883')\n",
      "(9, 'Carlos', 'carlos@hotmail.com', '(48)98497-7821')\n",
      "(10, 'João', 'joao@gmail.com', '(47)98484-5567')\n",
      "(11, 'Maria', 'maria@gmail.com', '(47)98893-5883')\n",
      "(12, 'Carlos', 'carlos@hotmail.com', '(48)98497-7821')\n",
      "(13, 'João', 'joao@gmail.com', '(47)98484-5567')\n",
      "(14, 'Maria', 'maria@gmail.com', '(47)98893-5883')\n",
      "(15, 'Carlos', 'carlos@hotmail.com', '(48)98497-7821')\n"
     ]
    }
   ],
   "source": [
    "import sqlite3\n",
    "\n",
    "# CREATE (Criação da tabela e inserção de dados de exemplo)\n",
    "conn = sqlite3.connect('contatos.db')\n",
    "cursor = conn.cursor()\n",
    "cursor.execute('''\n",
    "               CREATE TABLE IF NOT EXISTS Contatos (\n",
    "               id INTEGER PRIMARY KEY AUTOINCREMENT,\n",
    "               nome TEXT,\n",
    "               email TEXT,\n",
    "               telefone TEXT\n",
    "               )\n",
    "''')\n",
    "dados_exemplo = [\n",
    "    ('João', 'joao@gmail.com', '(47)98484-5567'),\n",
    "    ('Maria', 'maria@gmail.com', '(47)98893-5883'),\n",
    "    ('Carlos', 'carlos@hotmail.com', '(48)98497-7821')\n",
    "]\n",
    "\n",
    "cursor.executemany('INSERT INTO Contatos (nome, email, telefone) VALUES (?, ?, ?)', dados_exemplo)\n",
    "conn.commit()\n",
    "\n",
    "# READ (Leitura e exibição dos contatos)\n",
    "print(\"Contattos antes da remoção de duplicatas:\")\n",
    "cursor.execute('SELECT * FROM Contatos')\n",
    "contatos = cursor.fetchall()\n",
    "for contato in contatos:\n",
    "    print(contato)\n",
    "\n",
    "# Deletar a tabela original\n",
    "cursor.execute('DROP TABLE Contatos')\n",
    "\n",
    "# Renomear a tabela única\n",
    "cursor.execute('ALTER TABLE Contatos_Unique RENAME TO cONTATOS')\n",
    "\n",
    "# Exibir contatos após remoção de duplicatas\n",
    "print(\"\\nContatos após remoção de duplicatas:\")\n",
    "cursor.execute9('SELECT * FROM Contatos')\n",
    "for contato in contatos:\n",
    "    print(contato)\n",
    "\n",
    "conn.commit()\n",
    "conn.close()\n",
    "#UPDATE (Atualização do número de telefone do contato com ID 2)\n",
    "novo_telefone = '(47)98486-8701'\n",
    "contato_id = 2\n",
    "cursor.execute('UPDATE Contatos SET telefone = ? WHERE id = ?', (novo_telefone, contato_id))\n",
    "conn.commit()\n",
    "\n",
    "# DELETE (Exclusão do contato com ID 1)\n",
    "contato_id_para_excluir = 1\n",
    "\n",
    "cursor.execute('DELETE FROM Contatos WHERE id = ?', (contato_id_para_excluir,))\n",
    "conn.commit()\n",
    "\n",
    "# Fechando a conexão\n",
    "conn.close()"
   ]
  }
 ],
 "metadata": {
  "kernelspec": {
   "display_name": "Python 3",
   "language": "python",
   "name": "python3"
  },
  "language_info": {
   "codemirror_mode": {
    "name": "ipython",
    "version": 3
   },
   "file_extension": ".py",
   "mimetype": "text/x-python",
   "name": "python",
   "nbconvert_exporter": "python",
   "pygments_lexer": "ipython3",
   "version": "3.12.6"
  }
 },
 "nbformat": 4,
 "nbformat_minor": 2
}
