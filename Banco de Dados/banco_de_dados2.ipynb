{
 "cells": [
  {
   "cell_type": "code",
   "execution_count": 19,
   "metadata": {},
   "outputs": [
    {
     "name": "stdout",
     "output_type": "stream",
     "text": [
      "O contato com o email joao@gmail.com já existe e não foi inserido.\n",
      "O contato com o email maria@gmail.com já existe e não foi inserido.\n",
      "O contato com o email carlos@hotmail.com já existe e não foi inserido.\n",
      "Contatos antes da remoção de duplicatas:\n",
      "(2, 'Maria', 'maria@gmail.com', '(47)98486-8701')\n",
      "(3, 'Carlos', 'carlos@hotmail.com', '(48)98497-7821')\n",
      "(4, 'João', 'joao@gmail.com', '(47)98484-5567')\n",
      "\n",
      "Contatos após remoção de duplicatas:\n",
      "(2, 'Maria', 'maria@gmail.com', '(47)98486-8701')\n",
      "(3, 'Carlos', 'carlos@hotmail.com', '(48)98497-7821')\n",
      "(4, 'João', 'joao@gmail.com', '(47)98484-5567')\n"
     ]
    }
   ],
   "source": [
    "import sqlite3\n",
    "\n",
    "# CREATE (Criação da tabela e inserção de dados de exemplo)\n",
    "conn = sqlite3.connect('contatos2.db')\n",
    "cursor = conn.cursor()\n",
    "cursor.execute('''\n",
    "               CREATE TABLE IF NOT EXISTS Contatos (\n",
    "               id INTEGER PRIMARY KEY AUTOINCREMENT,\n",
    "               nome TEXT,\n",
    "               email TEXT UNIQUE,\n",
    "               telefone TEXT\n",
    "               )\n",
    "''')\n",
    "\n",
    "# Dados de exemplo\n",
    "dados_exemplo = [\n",
    "    ('João', 'joao@gmail.com', '(47)98484-5567'),\n",
    "    ('Maria', 'maria@gmail.com', '(47)98893-5883'),\n",
    "    ('Carlos', 'carlos@hotmail.com', '(48)98497-7821')\n",
    "]\n",
    "\n",
    "# Inserir dados apenas se o email ainda não estiver na tabela\n",
    "for dado in dados_exemplo:\n",
    "    try:\n",
    "        cursor.execute('INSERT INTO Contatos (nome, email, telefone) VALUES (?, ?, ?)', dado)\n",
    "    except sqlite3.IntegrityError:\n",
    "        print(f'O contato com o email {dado[1]} já existe e não foi inserido.')\n",
    "\n",
    "conn.commit()\n",
    "\n",
    "# Exibir contatos antes da remoção de duplicatas\n",
    "print(\"Contatos antes da remoção de duplicatas:\")\n",
    "cursor.execute('SELECT * FROM Contatos')\n",
    "contatos = cursor.fetchall()\n",
    "for contato in contatos:\n",
    "    print(contato)\n",
    "\n",
    "# Exibir contatos após remoção de duplicatas\n",
    "print(\"\\nContatos após remoção de duplicatas:\")\n",
    "cursor.execute('SELECT * FROM Contatos')\n",
    "contatos_unicos = cursor.fetchall()  # Obter contatos da nova tabela\n",
    "for contato in contatos_unicos:\n",
    "    print(contato)\n",
    "\n",
    "conn.commit()\n",
    "\n",
    "# UPDATE (Atualização do número de telefone do contato com ID 2)\n",
    "novo_telefone = '(47)98486-8701'\n",
    "contato_id = 2\n",
    "cursor.execute('UPDATE Contatos SET telefone = ? WHERE id = ?', (novo_telefone, contato_id))\n",
    "conn.commit()\n",
    "\n",
    "# DELETE (Exclusão do contato com ID 1)\n",
    "contato_id_para_excluir = 1\n",
    "cursor.execute('DELETE FROM Contatos WHERE id = ?', (contato_id_para_excluir,))\n",
    "conn.commit()\n",
    "\n",
    "# Fechando a conexão\n",
    "conn.close()\n"
   ]
  },
  {
   "cell_type": "markdown",
   "metadata": {},
   "source": []
  }
 ],
 "metadata": {
  "kernelspec": {
   "display_name": "Python 3",
   "language": "python",
   "name": "python3"
  },
  "language_info": {
   "codemirror_mode": {
    "name": "ipython",
    "version": 3
   },
   "file_extension": ".py",
   "mimetype": "text/x-python",
   "name": "python",
   "nbconvert_exporter": "python",
   "pygments_lexer": "ipython3",
   "version": "3.12.6"
  }
 },
 "nbformat": 4,
 "nbformat_minor": 2
}
