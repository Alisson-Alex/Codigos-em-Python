{
 "cells": [
  {
   "cell_type": "code",
   "execution_count": 1,
   "metadata": {},
   "outputs": [],
   "source": [
    "# Suponha que estamos desenvolvendo um programa de gerenciaremos informações de funcionários em uma tabela de um banco de dados SQLite.\n",
    "\n",
    "import sqlite3\n",
    "import pandas as pd\n",
    "\n",
    "# Passo 1: Conectar ao banco de dados SQLite (ou criá-lo se não existir)\n",
    "conn = sqlite3.connect(\"funcionarios.db\")"
   ]
  },
  {
   "cell_type": "code",
   "execution_count": 2,
   "metadata": {},
   "outputs": [
    {
     "data": {
      "text/plain": [
       "<sqlite3.Cursor at 0x15a9bcc4340>"
      ]
     },
     "execution_count": 2,
     "metadata": {},
     "output_type": "execute_result"
    }
   ],
   "source": [
    "# Passo 2: Criar a tabela de funcionários\n",
    "\n",
    "cursor = conn.cursor()\n",
    "cursor.execute('''\n",
    "               CREATE TABLE IF NOT EXISTS funcionarios (\n",
    "                    id INTEGER PRIMARY KEY,\n",
    "               nome TEXT,\n",
    "               cargo TEXT,\n",
    "               salario REAL\n",
    "               )\n",
    "''')"
   ]
  },
  {
   "cell_type": "code",
   "execution_count": 19,
   "metadata": {},
   "outputs": [],
   "source": [
    "# Passo 3: Inserir um novo funcinário na tabela( QUANTAS VEZES QUISER COM UM id DIFERENTE)\n",
    "\n",
    "novo_funcionario = (1, \"João\", \"Técnico de Inspeção\", 3500.00)\n",
    "cursor.execute(\"INSERT INTO funcionarios VALUES (?, ?, ?, ?)\", novo_funcionario)\n",
    "conn.commit()"
   ]
  },
  {
   "cell_type": "code",
   "execution_count": 26,
   "metadata": {},
   "outputs": [
    {
     "name": "stdout",
     "output_type": "stream",
     "text": [
      "Funcionários Cadastrados:\n",
      "(1, 'João A. Da Silva ', 'Técnico de Inspeção', 3500.0)\n"
     ]
    }
   ],
   "source": [
    "# Passo 4: Consultar e exibir funcionários\n",
    "cursor.execute(\"Select * FROM funcionarios\")\n",
    "funcionarios = cursor.fetchall()\n",
    "print(\"Funcionários Cadastrados:\")\n",
    "for funcionario in funcionarios:\n",
    "    print(funcionario)"
   ]
  },
  {
   "cell_type": "code",
   "execution_count": 23,
   "metadata": {},
   "outputs": [],
   "source": [
    "# Passo 5: Atualizar informações de um funcionário\n",
    "atualizacao = (\"Alisson A. Dos Santos\", 3500.00, 2)\n",
    "cursor.execute(\"UPDATE funcionarios SET nome = ?, salario = ? WHERE id = ?\", atualizacao)\n",
    "conn.commit()"
   ]
  },
  {
   "cell_type": "code",
   "execution_count": 25,
   "metadata": {},
   "outputs": [],
   "source": [
    "# Passo 6: Deletar um funcionário da tabela ( O NUMERAL \"2\" SERIA O id ESCOLHIDO PARA REMOVER)\n",
    "id_funcionario_para_deletar = 2\n",
    "cursor.execute(\"DELETE FROM funcionarios WHERE id = ?\", (id_funcionario_para_deletar,))\n",
    "conn.commit()"
   ]
  },
  {
   "cell_type": "code",
   "execution_count": null,
   "metadata": {},
   "outputs": [],
   "source": [
    "dados = salario\n",
    "df = pd.DataFrame()\n",
    "df.plot(x='Produto', y='quantidade_vendida', kind='bar')\n",
    "\n",
    "\n",
    "cursor.execute(\"Select * FROM funcionarios\")\n",
    "funcionarios = cursor.fetchall()\n",
    "print(\"Funcionários Cadastrados:\")\n",
    "for funcionario in funcionarios:\n",
    "    print(funcionario)"
   ]
  }
 ],
 "metadata": {
  "kernelspec": {
   "display_name": "Python 3",
   "language": "python",
   "name": "python3"
  },
  "language_info": {
   "codemirror_mode": {
    "name": "ipython",
    "version": 3
   },
   "file_extension": ".py",
   "mimetype": "text/x-python",
   "name": "python",
   "nbconvert_exporter": "python",
   "pygments_lexer": "ipython3",
   "version": "3.12.6"
  }
 },
 "nbformat": 4,
 "nbformat_minor": 2
}
