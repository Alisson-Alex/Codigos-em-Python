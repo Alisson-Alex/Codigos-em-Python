{
 "cells": [
  {
   "cell_type": "code",
   "execution_count": 2,
   "metadata": {},
   "outputs": [
    {
     "name": "stdout",
     "output_type": "stream",
     "text": [
      "0    10\n",
      "1    20\n",
      "2    30\n",
      "3    40\n",
      "4    50\n",
      "dtype: int64\n"
     ]
    }
   ],
   "source": [
    "import pandas as pd\n",
    "\n",
    "# Criando uma lista de valores\n",
    "exemplo1 = [10, 20, 30, 40, 50]\n",
    "\n",
    "# Criando uma Series a partir da lista\n",
    "series1 = pd.Series(data = exemplo1)\n",
    "\n",
    "print(series1)"
   ]
  },
  {
   "cell_type": "code",
   "execution_count": 3,
   "metadata": {},
   "outputs": [
    {
     "name": "stdout",
     "output_type": "stream",
     "text": [
      "Série de Idades:\n",
      "serie_idades\n"
     ]
    }
   ],
   "source": [
    "import pandas as pd\n",
    "\n",
    "# Criar um dicionário com nomes e idades\n",
    "dados = {\n",
    "    'Nome': ['Alice', 'Bob', 'Carol', 'Joe', 'Eve'],\n",
    "    'Idade': [25, 30, 22, 35, 28]\n",
    "}\n",
    "\n",
    "# Criar uma série a partir do dicionário\n",
    "serie_idades = pd.Series(dados['Idade'], index=dados['Nome'])\n",
    "\n",
    "# Exibir a série de idades\n",
    "print(\"Série de Idades:\")\n",
    "print(\"serie_idades\")"
   ]
  },
  {
   "cell_type": "code",
   "execution_count": 4,
   "metadata": {},
   "outputs": [
    {
     "name": "stdout",
     "output_type": "stream",
     "text": [
      "\n",
      "Médiade Idades: 28.0\n"
     ]
    }
   ],
   "source": [
    "# Calcular a média das idades\n",
    "media_idades = serie_idades.mean()\n",
    "print(\"\\nMédiade Idades:\", media_idades)"
   ]
  }
 ],
 "metadata": {
  "kernelspec": {
   "display_name": "Python 3",
   "language": "python",
   "name": "python3"
  },
  "language_info": {
   "codemirror_mode": {
    "name": "ipython",
    "version": 3
   },
   "file_extension": ".py",
   "mimetype": "text/x-python",
   "name": "python",
   "nbconvert_exporter": "python",
   "pygments_lexer": "ipython3",
   "version": "3.12.6"
  }
 },
 "nbformat": 4,
 "nbformat_minor": 2
}
