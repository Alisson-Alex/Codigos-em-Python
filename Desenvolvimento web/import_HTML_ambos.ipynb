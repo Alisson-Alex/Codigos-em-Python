{
 "cells": [
  {
   "cell_type": "code",
   "execution_count": null,
   "metadata": {},
   "outputs": [],
   "source": [
    "from IPython.display import HTML\n",
    "html_code = \"\"\"\n",
    "<!DOCTYPE html>\n",
    "<html lang= \"en\">\n",
    "<head>\n",
    "    <!-- Definindo a codificação e viewport para dispositivos móveis -->\n",
    "    <meta charser=\"UTF-8\">\n",
    "    <meta name=\"viewport\" content=\"width=device-width, initial-scale=1.0\">\n",
    "    <title>Meu Perfil</title>\n",
    "</head>\n",
    "<body style=\"font-family: 'Arial', sans-serif; background-color: #f8f8f8; margin: 0; padding: 0;\">\n",
    "\n",
    "    <!-- Cabeçalho da página -->\n",
    "    <header style=\"text-align: center; background-color: #3498db; color: #fff; padding: 20px;\">\n",
    "        <!-- Título principal -->\n",
    "        <h1 style=\"margin: 0;\">Alisson Alexandre Dos Santos</h1>\n",
    "        <!-- Descrição -->\n",
    "        <p style=\"margin: 5px 0;\">Desenvolvedor Web</p>\n",
    "    </header>\n",
    "\n",
    "    <!-- Seção de Informações Pessoais -->\n",
    "    <section style=\"margin: 20px; text-align: center;\">\n",
    "        <!-- Imagem com estílos -->\n",
    "        <img src=\"content/sua_foto.jpg\" alt=\"Sua Foto\" style=\"border-radios: 50%; margin-bottom: 20px;\">\n",
    "        <!-- Informações Pessoais -->\n",
    "        <div \n",
    "\n",
    "    \n",
    "        09:34 video 1 cw4\n",
    "    \n",
    "    \n",
    "    \"\"\""
   ]
  }
 ],
 "metadata": {
  "language_info": {
   "name": "python"
  }
 },
 "nbformat": 4,
 "nbformat_minor": 2
}
