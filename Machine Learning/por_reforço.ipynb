{
 "cells": [
  {
   "cell_type": "code",
   "execution_count": 8,
   "metadata": {},
   "outputs": [
    {
     "ename": "ValueError",
     "evalue": "too many values to unpack (expected 4)",
     "output_type": "error",
     "traceback": [
      "\u001b[1;31m---------------------------------------------------------------------------\u001b[0m",
      "\u001b[1;31mValueError\u001b[0m                                Traceback (most recent call last)",
      "Cell \u001b[1;32mIn[8], line 26\u001b[0m\n\u001b[0;32m     23\u001b[0m \u001b[38;5;28;01mwhile\u001b[39;00m \u001b[38;5;129;01mnot\u001b[39;00m done:\n\u001b[0;32m     24\u001b[0m     action \u001b[38;5;241m=\u001b[39m env\u001b[38;5;241m.\u001b[39maction_space\u001b[38;5;241m.\u001b[39msample()\n\u001b[1;32m---> 26\u001b[0m     next_state, reward, done, _ \u001b[38;5;241m=\u001b[39m env\u001b[38;5;241m.\u001b[39mstep(action)\n\u001b[0;32m     28\u001b[0m     target \u001b[38;5;241m=\u001b[39m reward \u001b[38;5;241m+\u001b[39m \u001b[38;5;241m0.95\u001b[39m \u001b[38;5;241m*\u001b[39m tf\u001b[38;5;241m.\u001b[39mreduce_max(model_reinforcement\u001b[38;5;241m.\u001b[39mpredict(next_state\u001b[38;5;241m.\u001b[39mreshape(\u001b[38;5;241m1\u001b[39m, \u001b[38;5;241m-\u001b[39m\u001b[38;5;241m1\u001b[39m)))\n\u001b[0;32m     30\u001b[0m     target_f \u001b[38;5;241m=\u001b[39m model_reinforcement\u001b[38;5;241m.\u001b[39mpredict(state\u001b[38;5;241m.\u001b[39mreshape(\u001b[38;5;241m1\u001b[39m, \u001b[38;5;241m-\u001b[39m\u001b[38;5;241m1\u001b[39m))\n",
      "\u001b[1;31mValueError\u001b[0m: too many values to unpack (expected 4)"
     ]
    }
   ],
   "source": [
    "import tensorflow as tf\n",
    "import gym\n",
    "\n",
    " # Ambiente CartPole do Gym\n",
    "env = gym.make('CartPole-v1')\n",
    "\n",
    " # Modelo Simples para Aprendizado por Reforço\n",
    "model_reinforcement = tf.keras.Sequential([\n",
    "    tf.keras.layers.Dense(24, activation='relu', input_shape=(env.observation_space.shape[0],)),\n",
    "    tf.keras.layers.Dense(env.action_space.n, activation='linear')\n",
    "\n",
    "])\n",
    "\n",
    " \n",
    "model_reinforcement.compile(optimizer=tf.keras.optimizers.Adam(learning_rate=0.001), loss='mse')\n",
    "\n",
    " # Treinamento por Reforço (exemplo fictício)\n",
    "max_episodes = 1000  # Defina o número máximo de episódios\n",
    "for episode in range(max_episodes):\n",
    "    state = env.reset()\n",
    "    done = False\n",
    "\n",
    "    while not done:\n",
    "        action = env.action_space.sample()\n",
    "\n",
    "        next_state, reward, done, _ = env.step(action)\n",
    "\n",
    "        target = reward + 0.95 * tf.reduce_max(model_reinforcement.predict(next_state.reshape(1, -1)))\n",
    "\n",
    "        target_f = model_reinforcement.predict(state.reshape(1, -1))\n",
    "\n",
    "        target_f[0][action] = target\n",
    "\n",
    "        model_reinforcement.fit(state.reshape(1, -1), target_f, epochs=1, verbose=0)\n",
    "\n",
    "        state = next_state\n",
    " \n",
    "\n",
    "    # Condição de parada\n",
    "    if episode % 10 == 0:\n",
    "        average_reward = sum(reward for _ in range(10)) / 10.0\n",
    "        print(f'Episode {episode}, Average Reward: {average_reward}')\n",
    "\n",
    "        # Adicionando uma condição de parada\n",
    "        if average_reward == 1:  # Pode ajustar esse valor conforme necessário\n",
    "            print(f'Solved after {episode} episodes!')\n",
    "            break"
   ]
  }
 ],
 "metadata": {
  "kernelspec": {
   "display_name": "Python 3",
   "language": "python",
   "name": "python3"
  },
  "language_info": {
   "codemirror_mode": {
    "name": "ipython",
    "version": 3
   },
   "file_extension": ".py",
   "mimetype": "text/x-python",
   "name": "python",
   "nbconvert_exporter": "python",
   "pygments_lexer": "ipython3",
   "version": "3.12.6"
  }
 },
 "nbformat": 4,
 "nbformat_minor": 2
}
