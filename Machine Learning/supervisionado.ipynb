{
 "cells": [
  {
   "cell_type": "code",
   "execution_count": null,
   "metadata": {},
   "outputs": [],
   "source": [
    "import tensorflow as tf\n",
    "from tensorflow.keras.models import Sequential\n",
    "from tensorflow.keras.layers import Dense\n",
    "import matplotlib.pyplot as plt\n",
    "\n",
    " \n",
    "\n",
    "# Dados de exemplo\n",
    "X_train = tf.constant([[1.0], [2.0], [3.0], [4.0]])\n",
    "y_train = tf.constant([[2.0], [4.0], [6.0], [8.0]])\n",
    "\n",
    "# Definimos os dados de exemplo x_train (entradas) e y_train (saídas desejadas) para treinar o modelo.\n",
    "# No exemplo, estamos usando pares de entrada e saída que representam uma relação linear simples (o dobro das entradas).\n",
    " \n",
    "# Modelo de Regressão Linear Simples\n",
    "model = Sequential()\n",
    "model.add(Dense(units=1, input_shape=(1,)))\n",
    "model.compile(optimizer='sgd', loss='mean_squared_error')\n",
    "\n",
    "# Definimos o modelo de Regressão Linear Simples a API Keras Sequential.\n",
    "# O modelo consiste em uma única camada densa (ou totalmente conectada) com um neurônio ( ou unidade) e uma entrada.\n",
    "# Estamos usando a função de perda (loss) de erro quadrático médio (mean squared error - 'mean_squared_error') e\n",
    "#o otimizador 'sgd' ( descida de gradiente estocástica)\n",
    "\n",
    "\n",
    "# Treinamento do modelo\n",
    "history = model.fit(X_train, y_train, epochs=1000, verbose=0)\n",
    "\n",
    "# Nesta seção, treinammos o modelo usando os dados de exemplo.\n",
    "# Executamos 1000 épocas de treinamento (epochs) e armazenamos o histórico do treinamento em history.\n",
    "# O argumento verbose=0 faz com que o treinamento seja executado em modo silencioso, sem exibir informações de progresso.\n",
    "\n",
    "# Previsão\n",
    "X_new = tf.constant([[5.0]])\n",
    "prediction = model.predict(X_new)\n",
    "print(\"Predição:\", prediction[0][0])\n",
    "\n",
    "# Aqui, fazemos uma previsão usando o modelo treinado.\n",
    "# Informamos uma nova entrada X_new (5.0) e calculamos a previsão. O resultado é impresso na tela.\n",
    "\n",
    "# Plotar os elementos\n",
    "plt.plot(history.history['loss'])\n",
    "plt.title('Model Loss Over Training')\n",
    "plt.xlabel('Epoch')\n",
    "plt.ylabel('Loss')\n",
    "plt.show()"
   ]
  }
 ],
 "metadata": {
  "kernelspec": {
   "display_name": "Python 3",
   "language": "python",
   "name": "python3"
  },
  "language_info": {
   "codemirror_mode": {
    "name": "ipython",
    "version": 3
   },
   "file_extension": ".py",
   "mimetype": "text/x-python",
   "name": "python",
   "nbconvert_exporter": "python",
   "pygments_lexer": "ipython3",
   "version": "3.12.6"
  }
 },
 "nbformat": 4,
 "nbformat_minor": 2
}
