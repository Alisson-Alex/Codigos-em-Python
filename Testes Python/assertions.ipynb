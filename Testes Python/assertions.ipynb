{
 "cells": [
  {
   "cell_type": "code",
   "execution_count": 4,
   "metadata": {},
   "outputs": [
    {
     "ename": "AssertionError",
     "evalue": "Divisão por zero!",
     "output_type": "error",
     "traceback": [
      "\u001b[1;31m---------------------------------------------------------------------------\u001b[0m",
      "\u001b[1;31mAssertionError\u001b[0m                            Traceback (most recent call last)",
      "Cell \u001b[1;32mIn[4], line 7\u001b[0m\n\u001b[0;32m      4\u001b[0m     \u001b[38;5;28;01massert\u001b[39;00m y \u001b[38;5;241m!=\u001b[39m \u001b[38;5;241m0\u001b[39m, \u001b[38;5;124m\"\u001b[39m\u001b[38;5;124mDivisão por zero!\u001b[39m\u001b[38;5;124m\"\u001b[39m\n\u001b[0;32m      5\u001b[0m     \u001b[38;5;28;01mreturn\u001b[39;00m x \u001b[38;5;241m/\u001b[39m y\n\u001b[1;32m----> 7\u001b[0m result \u001b[38;5;241m=\u001b[39m \u001b[43mdivide\u001b[49m\u001b[43m(\u001b[49m\u001b[38;5;241;43m6\u001b[39;49m\u001b[43m,\u001b[49m\u001b[43m \u001b[49m\u001b[38;5;241;43m0\u001b[39;49m\u001b[43m)\u001b[49m\n\u001b[0;32m      8\u001b[0m \u001b[38;5;28mprint\u001b[39m(result)\n",
      "Cell \u001b[1;32mIn[4], line 4\u001b[0m, in \u001b[0;36mdivide\u001b[1;34m(x, y)\u001b[0m\n\u001b[0;32m      3\u001b[0m \u001b[38;5;28;01mdef\u001b[39;00m \u001b[38;5;21mdivide\u001b[39m(x, y):\n\u001b[1;32m----> 4\u001b[0m     \u001b[38;5;28;01massert\u001b[39;00m y \u001b[38;5;241m!=\u001b[39m \u001b[38;5;241m0\u001b[39m, \u001b[38;5;124m\"\u001b[39m\u001b[38;5;124mDivisão por zero!\u001b[39m\u001b[38;5;124m\"\u001b[39m\n\u001b[0;32m      5\u001b[0m     \u001b[38;5;28;01mreturn\u001b[39;00m x \u001b[38;5;241m/\u001b[39m y\n",
      "\u001b[1;31mAssertionError\u001b[0m: Divisão por zero!"
     ]
    }
   ],
   "source": [
    "# A função assert é um True para a condição (y != 0), caso o y for igual 0 (False), ele descreve a String com o erro\n",
    "\n",
    "def divide(x, y):\n",
    "    assert y != 0, \"Divisão por zero!\"\n",
    "    return x / y\n",
    "\n",
    "result = divide(6, 0)\n",
    "print(result)"
   ]
  },
  {
   "cell_type": "code",
   "execution_count": 6,
   "metadata": {},
   "outputs": [],
   "source": [
    "def calcular_media(notas):\n",
    "    assert len(notas) > 0, \"A lista de notas não pode estar vazia\"\n",
    "\n",
    "    soma = sum(notas)\n",
    "    media = soma / len(notas)\n",
    "    return media"
   ]
  },
  {
   "cell_type": "code",
   "execution_count": 8,
   "metadata": {},
   "outputs": [
    {
     "ename": "AssertionError",
     "evalue": "A lista de notas não pode estar vazia",
     "output_type": "error",
     "traceback": [
      "\u001b[1;31m---------------------------------------------------------------------------\u001b[0m",
      "\u001b[1;31mAssertionError\u001b[0m                            Traceback (most recent call last)",
      "Cell \u001b[1;32mIn[8], line 3\u001b[0m\n\u001b[0;32m      1\u001b[0m \u001b[38;5;66;03m# Exemplo 1: Lista de notas vazia\u001b[39;00m\n\u001b[0;32m      2\u001b[0m notas_vazias \u001b[38;5;241m=\u001b[39m[]\n\u001b[1;32m----> 3\u001b[0m media \u001b[38;5;241m=\u001b[39m \u001b[43mcalcular_media\u001b[49m\u001b[43m(\u001b[49m\u001b[43mnotas_vazias\u001b[49m\u001b[43m)\u001b[49m \u001b[38;5;66;03m# Isso lançará um AssertionError\u001b[39;00m\n",
      "Cell \u001b[1;32mIn[6], line 2\u001b[0m, in \u001b[0;36mcalcular_media\u001b[1;34m(notas)\u001b[0m\n\u001b[0;32m      1\u001b[0m \u001b[38;5;28;01mdef\u001b[39;00m \u001b[38;5;21mcalcular_media\u001b[39m(notas):\n\u001b[1;32m----> 2\u001b[0m     \u001b[38;5;28;01massert\u001b[39;00m \u001b[38;5;28mlen\u001b[39m(notas) \u001b[38;5;241m>\u001b[39m \u001b[38;5;241m0\u001b[39m, \u001b[38;5;124m\"\u001b[39m\u001b[38;5;124mA lista de notas não pode estar vazia\u001b[39m\u001b[38;5;124m\"\u001b[39m\n\u001b[0;32m      4\u001b[0m     soma \u001b[38;5;241m=\u001b[39m \u001b[38;5;28msum\u001b[39m(notas)\n\u001b[0;32m      5\u001b[0m     media \u001b[38;5;241m=\u001b[39m soma \u001b[38;5;241m/\u001b[39m \u001b[38;5;28mlen\u001b[39m(notas)\n",
      "\u001b[1;31mAssertionError\u001b[0m: A lista de notas não pode estar vazia"
     ]
    }
   ],
   "source": [
    "# Exemplo 1: Lista de notas vazia\n",
    "notas_vazias =[]\n",
    "media = calcular_media(notas_vazias) # Isso lançará um AssertionError"
   ]
  },
  {
   "cell_type": "code",
   "execution_count": 9,
   "metadata": {},
   "outputs": [
    {
     "name": "stdout",
     "output_type": "stream",
     "text": [
      "7.6\n"
     ]
    }
   ],
   "source": [
    "# Exemplo 2: Lista de notas válidas\n",
    "notas_validas =[8, 7, 9, 6, 8]\n",
    "media = calcular_media(notas_validas) # Isso funcionará corretamente\n",
    "print(media)"
   ]
  }
 ],
 "metadata": {
  "kernelspec": {
   "display_name": "Python 3",
   "language": "python",
   "name": "python3"
  },
  "language_info": {
   "codemirror_mode": {
    "name": "ipython",
    "version": 3
   },
   "file_extension": ".py",
   "mimetype": "text/x-python",
   "name": "python",
   "nbconvert_exporter": "python",
   "pygments_lexer": "ipython3",
   "version": "3.12.6"
  }
 },
 "nbformat": 4,
 "nbformat_minor": 2
}
