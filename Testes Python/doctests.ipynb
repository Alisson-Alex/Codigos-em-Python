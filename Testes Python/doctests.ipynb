{
 "cells": [
  {
   "cell_type": "code",
   "execution_count": 4,
   "metadata": {},
   "outputs": [
    {
     "name": "stdout",
     "output_type": "stream",
     "text": [
      "**********************************************************************\n",
      "File \"__main__\", line 11, in __main__.square\n",
      "Failed example:\n",
      "    square(0)\n",
      "Expected:\n",
      "    1\n",
      "Got:\n",
      "    0\n",
      "**********************************************************************\n",
      "1 items had failures:\n",
      "   1 of   3 in __main__.square\n",
      "***Test Failed*** 1 failures.\n"
     ]
    },
    {
     "data": {
      "text/plain": [
       "TestResults(failed=1, attempted=3)"
      ]
     },
     "execution_count": 4,
     "metadata": {},
     "output_type": "execute_result"
    }
   ],
   "source": [
    "import doctest\n",
    "def square(x):\n",
    "    \"\"\"\n",
    "    Retorna o quadro de um número.\n",
    "\n",
    "    Exemplos:\n",
    "    >>> square(3)\n",
    "    9\n",
    "    >>> square(-2)\n",
    "    4\n",
    "    >>> square(0)\n",
    "    1\n",
    "    \"\"\"\n",
    "    # Erro colocado de proposito para apresentação ( 0 * 0 = 0 ) foi descrito acima como (0 * 0 = 1)\n",
    "    return x * x\n",
    "doctest.testmod()\n",
    "\n",
    "# A função square é acompanhada por uma string de documentação que inclui exemplos de uso.\n",
    "# Esses exemplos estão formatados de maneira especial, usando o prompt >>>, que indica um bloco de código python.\n",
    "\n",
    "# No caso do exemplo, doctest.testmod() executará a função square(3),\n",
    "#verificará se o resultado é igual a 9, executará sqiare(-2) e verificará se o resultado é 4, e assim por diante.\n",
    "\n",
    "# Se todos os testes passarem, doctest não produzirá nenhuma saída.\n",
    "# Se houver uma discrepância entre a saída real e a esperada, doctest imprimirá uma mensagem indicando onde ocorreu o problema.\n",
    "\n",
    "# A principal vantagem do doctest é que ele permite que você mantenha exemplos na documentação e, ao mesmo tempo, use esses exemplos como testes automatisados.\n",
    "# Isso ajuda a garantir que a documentação esteja sempre em sincronia com o código real."
   ]
  }
 ],
 "metadata": {
  "kernelspec": {
   "display_name": "Python 3",
   "language": "python",
   "name": "python3"
  },
  "language_info": {
   "codemirror_mode": {
    "name": "ipython",
    "version": 3
   },
   "file_extension": ".py",
   "mimetype": "text/x-python",
   "name": "python",
   "nbconvert_exporter": "python",
   "pygments_lexer": "ipython3",
   "version": "3.12.6"
  }
 },
 "nbformat": 4,
 "nbformat_minor": 2
}
