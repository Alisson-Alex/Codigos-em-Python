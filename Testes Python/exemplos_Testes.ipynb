{
 "cells": [
  {
   "cell_type": "code",
   "execution_count": 1,
   "metadata": {},
   "outputs": [
    {
     "name": "stdout",
     "output_type": "stream",
     "text": [
      "11\n"
     ]
    }
   ],
   "source": [
    "# ASSERT\n",
    "\n",
    "def sum_numbers(numbers):\n",
    "    assert sum([1, 2, 3, 4]) == 10\n",
    "    assert sum([-1, 0, 1]) == 0\n",
    "    assert sum([]) == 0\n",
    "    return sum(numbers)\n",
    "teste = sum_numbers([1, 2, 3, 5])\n",
    "print(teste)"
   ]
  },
  {
   "cell_type": "code",
   "execution_count": 1,
   "metadata": {},
   "outputs": [],
   "source": [
    "# DOCTEST\n",
    "\n",
    "def sum_numbers(numbers):\n",
    "    \"\"\"\n",
    "    Soma os números em uma lista.\n",
    "\n",
    "    Exemplos:\n",
    "    >>> sum_numbers([1, 2, 3, 4])\n",
    "    10\n",
    "    >>> sum_numbers([-1, 0, 1])\n",
    "    0\n",
    "    >>> sum_numbers([])\n",
    "    0\n",
    "    \"\"\"\n",
    "    return sum(numbers)\n",
    "\n",
    "if __name__ == \"__main__\":\n",
    "    import doctest\n",
    "    doctest.testmod()"
   ]
  },
  {
   "cell_type": "code",
   "execution_count": 5,
   "metadata": {},
   "outputs": [
    {
     "name": "stderr",
     "output_type": "stream",
     "text": [
      "...\n",
      "----------------------------------------------------------------------\n",
      "Ran 3 tests in 0.003s\n",
      "\n",
      "OK\n"
     ]
    }
   ],
   "source": [
    "# UNITTEST\n",
    "\n",
    "import unittest\n",
    "def sum_numbers(numbers):\n",
    "    return sum(numbers)\n",
    "\n",
    "class TestSumNumbers(unittest.TestCase):\n",
    "    def test_sum_numbers_positive(self):\n",
    "        self.assertEqual(sum_numbers([1, 2, 3, 4]), 10)\n",
    "\n",
    "    def test_sum_numbers_mixed(self):\n",
    "        self.assertEqual(sum_numbers([-1, 0, 1]), 0)\n",
    "\n",
    "    def test_sum_numbers_empty(self):\n",
    "        self.assertEqual(sum_numbers([]), 0)\n",
    "\n",
    "if __name__ == '__main__':\n",
    "    unittest.main(argv=['first-arg-is-ignored'], exit=False)"
   ]
  }
 ],
 "metadata": {
  "kernelspec": {
   "display_name": "Python 3",
   "language": "python",
   "name": "python3"
  },
  "language_info": {
   "codemirror_mode": {
    "name": "ipython",
    "version": 3
   },
   "file_extension": ".py",
   "mimetype": "text/x-python",
   "name": "python",
   "nbconvert_exporter": "python",
   "pygments_lexer": "ipython3",
   "version": "3.12.6"
  }
 },
 "nbformat": 4,
 "nbformat_minor": 2
}
