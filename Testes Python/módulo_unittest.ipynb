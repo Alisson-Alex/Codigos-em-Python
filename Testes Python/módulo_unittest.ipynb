{
 "cells": [
  {
   "cell_type": "code",
   "execution_count": 1,
   "metadata": {},
   "outputs": [
    {
     "name": "stderr",
     "output_type": "stream",
     "text": [
      "."
     ]
    },
    {
     "name": "stderr",
     "output_type": "stream",
     "text": [
      ".\n",
      "----------------------------------------------------------------------\n",
      "Ran 2 tests in 0.002s\n",
      "\n",
      "OK\n"
     ]
    },
    {
     "name": "stdout",
     "output_type": "stream",
     "text": [
      "Os testes foram executados com sucesso!\n"
     ]
    }
   ],
   "source": [
    "import unittest\n",
    "\n",
    "def add(a, b):\n",
    "    return a + b\n",
    "\n",
    "class TestAddition(unittest.TestCase):\n",
    "    def test_add_positive_numbers(self):\n",
    "        self.assertEqual(add(2, 3), 5)\n",
    "\n",
    "    def test_add_negative_numbers(self):\n",
    "        self.assertEqual(add(-2, -3), -5)\n",
    "\n",
    "if __name__ == '__main__':\n",
    "    import unittest\n",
    "    unittest.main(argv=['first-arg-is-ignored'], exit=False)\n",
    "    print(\"Os testes foram executados com sucesso!\")\n",
    "\n",
    "# A função add simplesmente soma dois números, cria uma classe que herda de unittest.TestCase.\n",
    "# Isso indica que essa classe contém testes unitários.\n",
    "# Dentro da classe de teste, você define métodos de teste.\n",
    "# Cada método de teste deve começar com a palavra-chave test.\n",
    "# Dentro desses métodos, você usa assertivas (como self.assertEqual) para verificar se o comportamento esperado do código é atendido.\n",
    "# A condição if __name__ == '__main__': garante que a suíte de testes seja executada somente se o script for executado diretamente\n",
    "#não se for importado como um módulo em outro script). unittest.main() executa todos os testes definidos na classe TestAddition."
   ]
  }
 ],
 "metadata": {
  "kernelspec": {
   "display_name": "Python 3",
   "language": "python",
   "name": "python3"
  },
  "language_info": {
   "codemirror_mode": {
    "name": "ipython",
    "version": 3
   },
   "file_extension": ".py",
   "mimetype": "text/x-python",
   "name": "python",
   "nbconvert_exporter": "python",
   "pygments_lexer": "ipython3",
   "version": "3.12.6"
  }
 },
 "nbformat": 4,
 "nbformat_minor": 2
}
