{
 "cells": [
  {
   "cell_type": "code",
   "execution_count": 11,
   "metadata": {},
   "outputs": [],
   "source": [
    "import sqlite3\n",
    "\n",
    "conn = sqlite3.connect('exemplo.db')\n",
    "cursor = conn.cursor()\n",
    "create_table = \"\"\"\n",
    "CREATE TABLE IF NOT EXISTS Produtos (\n",
    "    id INTEGER PRIMARY KEY,\n",
    "    nome TEXT NOT NULL,\n",
    "    preco REAL NOT NULL,\n",
    "    estoque INTEGER\n",
    ");\n",
    "\"\"\"\n",
    "cursor.execute(create_table)\n",
    "conn.commit()\n",
    "conn.close()"
   ]
  },
  {
   "cell_type": "code",
   "execution_count": 12,
   "metadata": {},
   "outputs": [],
   "source": [
    "import sqlite3\n",
    "\n",
    "conn = sqlite3.connect('exemplo.db')\n",
    "cursor = conn.cursor()\n",
    "novo_produto = ('Camiseta', 19.99, 50)\n",
    "inserir_produto = \"INSERT INTO Produtos (nome, preco, estoque) VALUES (?, ?, ?)\"\n",
    "cursor.execute(inserir_produto, novo_produto)\n",
    "conn.commit()\n",
    "conn.close()"
   ]
  },
  {
   "cell_type": "code",
   "execution_count": 13,
   "metadata": {},
   "outputs": [
    {
     "name": "stdout",
     "output_type": "stream",
     "text": [
      "(1, 'Camiseta', 24.99, 50)\n",
      "(2, 'Camiseta', 19.99, 50)\n"
     ]
    }
   ],
   "source": [
    "import sqlite3\n",
    "\n",
    "conn = sqlite3.connect('exemplo.db')\n",
    "cursor = conn.cursor()\n",
    "selecionar_produtos = \"SELECT * FROM Produtos\"\n",
    "cursor.execute(selecionar_produtos)\n",
    "produtos = cursor.fetchall()\n",
    "for produto in produtos:\n",
    "    print(produto)\n",
    "    \n",
    "conn.close()"
   ]
  },
  {
   "cell_type": "code",
   "execution_count": 14,
   "metadata": {},
   "outputs": [],
   "source": [
    "import sqlite3\n",
    "\n",
    "conn = sqlite3.connect('exemplo.db')\n",
    "cursor = conn.cursor()\n",
    "novo_preco = 24.99\n",
    "produto_id = 1\n",
    "atualizar_preco = \"UPDATE Produtos SET preco = ? WHERE id = ?\"\n",
    "cursor.execute(atualizar_preco, (novo_preco, produto_id))\n",
    "conn.commit()\n",
    "conn.close()"
   ]
  },
  {
   "cell_type": "code",
   "execution_count": 15,
   "metadata": {},
   "outputs": [],
   "source": [
    "import sqlite3\n",
    "\n",
    "conn = sqlite3.connect('exemplo.db')\n",
    "cursor = conn.cursor()\n",
    "produto_id = 2  \n",
    "excluir_produto = \"DELETE FROM Produtos WHERE id = ?\"\n",
    "cursor.execute(excluir_produto, (produto_id,))\n",
    "conn.commit()\n",
    "conn.close()"
   ]
  }
 ],
 "metadata": {
  "kernelspec": {
   "display_name": "Python 3",
   "language": "python",
   "name": "python3"
  },
  "language_info": {
   "name": "python",
   "version": "3.12.6"
  }
 },
 "nbformat": 4,
 "nbformat_minor": 2
}
