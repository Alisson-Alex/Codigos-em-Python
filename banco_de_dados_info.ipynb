{
 "cells": [
  {
   "cell_type": "code",
   "execution_count": 1,
   "metadata": {},
   "outputs": [],
   "source": [
    "import sqlite3\n",
    "\n",
    "# 1. Conectar ao banco de dados (ou criar um novo)\n",
    "# Usando a função connect do módulo sqlite3 para se conectar a um banco de dados SQLite\n",
    "# Chamado 'exemplo.db'. Se o banco de dados não existir, ele será criado automaticamente.\n",
    "\n",
    "conn = sqlite3.connect('exemplo.db')\n",
    "\n",
    "# 2. Criar um objeto cursor\n",
    "# O cursor é usado para executar comandos SQL no banco de dados.\n",
    "# Ele atua como uma espécie de ponteiro que percorre os resultados de consultas.\n",
    "\n",
    "cursor = conn.cursor()\n",
    "\n",
    "# 3. Definir o comando SQL para crisr a tabela\n",
    "# Define uma string create_table que contém um comando SQL para criar uma tabela chamada \"Produtos\".\n",
    "# Esta tabela terá quatro colunas: id (chave primaria), nome(texto), preco(número real) e estoque(número inteiro).\n",
    "#O IF NOT EXISTS garante que a tabela só será criada se ainda não existir\n",
    "\n",
    "create_table = \"\"\"\n",
    "CREATE TABLE IF NOT EXISTS Produtos (\n",
    "    id INTEGER PRIMARY KEY,\n",
    "    nome TEXT NOT NULL,\n",
    "    preco REAL NOT NULL,\n",
    "    estoque INTEGER\n",
    ");\n",
    "\"\"\"\n",
    "# Usa o método execute do objeto cursor para executar o comando SQL definido anteriormente e criar a tabela no banco de dados.\n",
    "\n",
    "# 4. Executar o comando SQL para criar a tabela\n",
    "\n",
    "cursor.execute(create_table)\n",
    "\n",
    "# 5. Confirmar as alterações (commit)\n",
    "# Após a execução bem-sucedida do comando SQL, usa o método commit no objeto de conexão (conn) para confirmar as alterações no banco de dados.\n",
    "# Isso garante que as alterações sejam efetivamente aplicadas.\n",
    "conn.commit()\n",
    "\n",
    "# 6. Para fechar a conexão com o banco de dados\n",
    "# Finalmente, você usa o método close no objeto de conexão para encerrar a conexão com o banco de dados.\n",
    "# É uma prática recomendada fechar a conexão após a conclusão das operações, para liberar recursos e evitar possíveis problemas de concorrência.\n",
    "\n",
    "conn.close()"
   ]
  },
  {
   "cell_type": "code",
   "execution_count": 2,
   "metadata": {},
   "outputs": [],
   "source": [
    "# Adicionar produto\n",
    "import sqlite3\n",
    "\n",
    "# Conectando ao banco de dados\n",
    "conn = sqlite3.connect('exemplo.db')\n",
    "cursor = conn.cursor()\n",
    "\n",
    "# Dados do novo produto\n",
    "novo_produto = ('Camiseta', 19.99, 50)\n",
    "\n",
    "# Comando SQL para inserir o novo produto na tabela\n",
    "inserir_produto = \"INSERT INTO Produtos (nome, preco, estoque) VALUES (?, ?, ?)\"\n",
    "\n",
    "# Executando o comando SQL para inserção\n",
    "cursor.execute(inserir_produto, novo_produto)\n",
    "\n",
    "# Confirmando as alterações\n",
    "conn.commit()\n",
    "\n",
    "# Fechando a conexão\n",
    "conn.close()"
   ]
  },
  {
   "cell_type": "code",
   "execution_count": 3,
   "metadata": {},
   "outputs": [
    {
     "name": "stdout",
     "output_type": "stream",
     "text": [
      "(1, 'Camiseta', 24.99, 50)\n",
      "(2, 'Camiseta', 19.99, 50)\n"
     ]
    }
   ],
   "source": [
    "import sqlite3\n",
    "\n",
    "# Conectando ao banco de dados\n",
    "conn = sqlite3.connect('exemplo.db')\n",
    "cursor = conn.cursor()\n",
    "\n",
    "# Comando SQL para selecionar todos os produtos\n",
    "selecionar_produtos = \"SELECT * FROM Produtos\"\n",
    "\n",
    "# Executando o comando SQL\n",
    "cursor.execute(selecionar_produtos)\n",
    "\n",
    "# Obtendo todos os registros e exibindo-os\n",
    "produtos = cursor.fetchall()\n",
    "for produto in produtos:\n",
    "    print(produto)\n",
    "\n",
    "# Fechando a conexão\n",
    "conn.close()"
   ]
  },
  {
   "cell_type": "code",
   "execution_count": 4,
   "metadata": {},
   "outputs": [],
   "source": [
    "import sqlite3\n",
    "\n",
    "# Conectando ao banco de dados\n",
    "conn = sqlite3.connect('exemplo.db')\n",
    "cursor = conn.cursor()\n",
    "\n",
    "# Novo preço e ID do produto a ser atualizado\n",
    "novo_preco = 24.99\n",
    "produto_id = 1  # Suponha que queiramos atualizar o produto com ID 1\n",
    "\n",
    "# Comando SQL para atualizar o preço do produto\n",
    "atualizar_preco = \"UPDATE Produtos SET preco = ? WHERE id = ?\"\n",
    "\n",
    "# Executando o comando SQL de atualização\n",
    "cursor.execute(atualizar_preco, (novo_preco, produto_id))\n",
    "\n",
    "# Confirmando as alterações\n",
    "conn.commit()\n",
    "\n",
    "# Fechando a conexão\n",
    "conn.close()"
   ]
  },
  {
   "cell_type": "code",
   "execution_count": 5,
   "metadata": {},
   "outputs": [],
   "source": [
    "import sqlite3\n",
    "\n",
    "# Conectando ao banco de dados\n",
    "conn = sqlite3.connect('exemplo.db')\n",
    "cursor = conn.cursor()\n",
    "\n",
    "# ID do produto a ser excluído\n",
    "produto_id = 2  # Suponha que queiramos excluir o produto com ID 2\n",
    "\n",
    "# Comando SQL para excluir o produto\n",
    "excluir_produto = \"DELETE FROM Produtos WHERE id = ?\"\n",
    "\n",
    "# Executando o comando SQL de exclusão\n",
    "cursor.execute(excluir_produto, (produto_id,))\n",
    "\n",
    "# Confirmando as alterações\n",
    "conn.commit()\n",
    "\n",
    "# Fechando a conexão\n",
    "conn.close()"
   ]
  }
 ],
 "metadata": {
  "kernelspec": {
   "display_name": "Python 3",
   "language": "python",
   "name": "python3"
  },
  "language_info": {
   "codemirror_mode": {
    "name": "ipython",
    "version": 3
   },
   "file_extension": ".py",
   "mimetype": "text/x-python",
   "name": "python",
   "nbconvert_exporter": "python",
   "pygments_lexer": "ipython3",
   "version": "3.12.6"
  }
 },
 "nbformat": 4,
 "nbformat_minor": 2
}
